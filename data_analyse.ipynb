{
 "cells": [
  {
   "cell_type": "code",
   "execution_count": null,
   "metadata": {},
   "outputs": [],
   "source": [
    "import scipy.io as sio\n",
    "import numpy as np\n",
    "import matplotlib.pyplot as plt\n",
    "from Config import Config\n",
    "import pandas as pd\n",
    "%matplotlib inline\n",
    "from Data5 import Data\n",
    "from Config import Config"
   ]
  },
  {
   "cell_type": "code",
   "execution_count": null,
   "metadata": {},
   "outputs": [],
   "source": [
    "config = Config()\n",
    "ds = Data(config)"
   ]
  },
  {
   "cell_type": "code",
   "execution_count": null,
   "metadata": {},
   "outputs": [],
   "source": [
    "pd_data = pd.DataFrame(ds.source_data)\n",
    "pd.plotting.scatter_matrix(pd_data, alpha = 0.3, figsize = (14,8), diagonal = 'kde');"
   ]
  },
  {
   "cell_type": "code",
   "execution_count": null,
   "metadata": {},
   "outputs": [],
   "source": [
    "path = \"data/5F-SubjectB-160311-5St-SGLHand-HFREQ.mat\"\n",
    "file = sio.loadmat(path)\n",
    "data = file[\"o\"][\"data\"][0][0]  # [-1, 22]\n",
    "data = np.array(data).astype(np.float)\n",
    "\n",
    "marker = file[\"o\"][\"marker\"][0][0]  # [-1, 1]\n",
    "marker = np.array(marker).astype(np.int)"
   ]
  },
  {
   "cell_type": "code",
   "execution_count": null,
   "metadata": {},
   "outputs": [],
   "source": [
    "pd_data = pd.DataFrame(data)\n",
    "print(pd_data.head(4))\n",
    "pd.plotting.scatter_matrix(pd_data, alpha = 0.3, figsize = (14,8), diagonal = 'kde');\n"
   ]
  },
  {
   "cell_type": "code",
   "execution_count": null,
   "metadata": {},
   "outputs": [],
   "source": []
  }
 ],
 "metadata": {
  "kernelspec": {
   "display_name": "Python 3",
   "language": "python",
   "name": "python3"
  }
 },
 "nbformat": 4,
 "nbformat_minor": 4
}
